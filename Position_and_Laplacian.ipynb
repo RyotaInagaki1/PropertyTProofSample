{
 "cells": [
  {
   "cell_type": "markdown",
   "id": "711aafe0",
   "metadata": {},
   "source": [
    "In this notebook, we process the matrices needed in Proving Property (T) for $SL_3(\\mathbb{Z})$ via semidefinite optimization."
   ]
  },
  {
   "cell_type": "code",
   "execution_count": 6,
   "id": "8489a80b",
   "metadata": {},
   "outputs": [],
   "source": [
    "import numpy as np\n",
    "import itertools\n",
    "from scipy.io import savemat\n",
    "from functools import reduce\n",
    "import os\n",
    "np.version.version\n",
    "length_of_Mprime = 121\n",
    "width_of_Mprime = 121"
   ]
  },
  {
   "cell_type": "code",
   "execution_count": 8,
   "id": "badf1dc2",
   "metadata": {},
   "outputs": [],
   "source": [
    "# We open the matrix containing coefficients of Delta^2 - 0.2805 Delta\n",
    "with open('~/Desktop/BMatrixData/DeltaCoeffs.bin','rb') as f:\n",
    "    depth=np.fromfile(f,dtype=np.dtype('int32'),count=1)\n",
    "    dims =np.fromfile(f,dtype=np.dtype('int32'),count=depth[0])\n",
    "    data =np.reshape(np.fromfile(f,dtype=np.dtype('float64'), count=reduce(lambda x,y:x*y,dims)),dims)\n",
    "arr_list = []\n",
    "counter = 0\n",
    "counter2 = 0\n",
    "constraints = set()\n",
    "unique_group_elements = set()\n",
    "os.makedirs(\"~/Desktop/MatlabMatrices/\")\n",
    "os.makedirs(\"~/Desktop/MatlabMatrices/PosNonredundant\")\n",
    "os.makedirs(\"~/Desktop/MatlabMatrices/UniqueGroupElts\")\n",
    "for i in range(1, length_of_Mprime+1):\n",
    "    for j in range(1, width_of_Mprime+1):\n",
    "        # We construct the matrix B_{i, j} defined entrywise at i', j' \n",
    "        # by B_{i, j}(i', j') = 1 if b_i^*b_j = b_{i'}^*b_{j'}\n",
    "        # 0 otherwise\n",
    "        with open('~/Desktop/BMatrixData/Positions'+str(i)+'_'+str(j)+'.bin','rb') as f:\n",
    "            depth=np.fromfile(f,dtype=np.dtype('int32'),count=1)\n",
    "            dims =np.fromfile(f,dtype=np.dtype('int32'),count=depth[0])\n",
    "            data =np.reshape(np.fromfile(f,dtype=np.dtype('int32'), count=reduce(lambda x,y:x*y,dims)),dims)\n",
    "        arr = np.zeros((length_of_Mprime, length_of_Mprime))\n",
    "        for pair in data:\n",
    "            arr[pair[0]-1, pair[1]-1] = 1\n",
    "        as_tuple = tuple(map(tuple, (arr + np.transpose(arr))/2))\n",
    "        # We add the constraint Tr(B_{i, j}X) = coefficient of b_i^*b_j in Delta^2 -\\lambda Delta\n",
    "        # In this first if statement, we notice that this constraint is the same as \n",
    "        # Tr((B_{i, j} + B_{i, j}^T)/2 X) = coefficient of b_i^*b_j in Delta^2 -\\lambda Delta\n",
    "        # and we try to not repeat any of the constraints\n",
    "        # In the second if statement, we keep redundant constraints of the form\n",
    "        # Tr((B_{i, j} + B_{i, j}^T)/2 X) = coefficient of b_i^*b_j in Delta^2 -\\lambda Delta\n",
    "        # As long as no two B_{i, j} are the same.\n",
    "        if as_tuple not in constraints:\n",
    "            mdic = {\"a\": (arr + np.transpose(arr))/2, \"b\": deltadata[(i-1)][(j-1)]}\n",
    "            savemat(\"~/Desktop/MatlabMatrices/PosNonredundant/Pos\" + str(counter)+\".mat\", mdic)\n",
    "            constraints.add(as_tuple)\n",
    "            counter += 1\n",
    "        not_necessarily_symmetric = tuple(map(tuple, arr))\n",
    "        if not_necessarily_symmetric not in unique_group_elements:\n",
    "            mdic = {\"a\": (arr + np.transpose(arr))/2, \"b\": deltadata[(i-1)][(j-1)]}\n",
    "            savemat(\"~/Desktop/MatlabMatrices/UniqueGroupElts/Pos\" + str(counter2)+\".mat\", mdic)\n",
    "            unique_group_elements.add(not_necessarily_symmetric)\n",
    "            counter2 += 1"
   ]
  }
 ],
 "metadata": {
  "kernelspec": {
   "display_name": "Python 3 (ipykernel)",
   "language": "python",
   "name": "python3"
  },
  "language_info": {
   "codemirror_mode": {
    "name": "ipython",
    "version": 3
   },
   "file_extension": ".py",
   "mimetype": "text/x-python",
   "name": "python",
   "nbconvert_exporter": "python",
   "pygments_lexer": "ipython3",
   "version": "3.9.7"
  }
 },
 "nbformat": 4,
 "nbformat_minor": 5
}
